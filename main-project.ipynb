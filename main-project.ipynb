{
 "cells": [
  {
   "cell_type": "code",
   "execution_count": null,
   "metadata": {},
   "outputs": [],
   "source": [
    "from ultralytics import YOLO\n",
    "import cv2\n",
    "import matplotlib.pyplot as plt"
   ]
  },
  {
   "cell_type": "markdown",
   "metadata": {},
   "source": [
    "## IMPORT MODEL"
   ]
  },
  {
   "cell_type": "code",
   "execution_count": null,
   "metadata": {},
   "outputs": [],
   "source": [
    "source_path = \"./model/client_model/best.pt\"\n",
    "model = YOLO(source_path)"
   ]
  },
  {
   "cell_type": "markdown",
   "metadata": {},
   "source": [
    "## IMPORT VIDEO"
   ]
  },
  {
   "cell_type": "code",
   "execution_count": null,
   "metadata": {},
   "outputs": [],
   "source": [
    "video_source_path = './dataset/Video/Video_Edit_3_30_detik.mp4'\n",
    "cap = cv2.VideoCapture(video_source_path)"
   ]
  },
  {
   "cell_type": "markdown",
   "metadata": {},
   "source": [
    "## IMPORT PHOTO"
   ]
  },
  {
   "cell_type": "code",
   "execution_count": null,
   "metadata": {},
   "outputs": [],
   "source": [
    "photo_source_path = './dataset/Foto/K2_AB3494ZF_jpg.rf.85eec8252e637af4b08bd271b584c014.jpg'\n",
    "image = cv2.imread(photo_source_path)\n",
    "img_rgb = cv2.cvtColor(image, cv2.COLOR_BGR2RGB)\n",
    "plt.imshow(img_rgb)\n",
    "plt.axis('off') \n",
    "plt.show()"
   ]
  },
  {
   "cell_type": "markdown",
   "metadata": {},
   "source": [
    "## CLASS MAPPING"
   ]
  },
  {
   "cell_type": "code",
   "execution_count": null,
   "metadata": {},
   "outputs": [],
   "source": [
    "class_mapping = {0 : \"Mobil\", 1 : \"Motor\", 2 : \"Plat Nomor\"}"
   ]
  },
  {
   "cell_type": "code",
   "execution_count": null,
   "metadata": {},
   "outputs": [],
   "source": [
    "car_box_color = (255, 0, 0)   # Warna merah\n",
    "motor_box_color = (0, 255, 0)  # Warna hijau\n",
    "plate_box_color = (0, 0, 255)  # Warna biru\n",
    "\n",
    "font = cv2.FONT_HERSHEY_SIMPLEX\n",
    "font_scale = 0.8\n",
    "font_thickness = 2"
   ]
  },
  {
   "cell_type": "markdown",
   "metadata": {},
   "source": [
    "## PHOTO DETECTION"
   ]
  },
  {
   "cell_type": "code",
   "execution_count": null,
   "metadata": {},
   "outputs": [],
   "source": [
    "detections = model(image)[0]\n",
    "\n",
    "for detection in detections.boxes.data.tolist():\n",
    "    x1, y1, x2, y2, score, class_id = detection\n",
    "    # Mengukur tinggi teks\n",
    "    text_size = cv2.getTextSize(class_mapping[class_id], font, font_scale, font_thickness)[0]\n",
    "    text_height = text_size[1]\n",
    "    if class_id == 0:\n",
    "        cv2.rectangle(img_rgb, (int(x1), int(y1)), (int(x2), int(y2)), car_box_color, thickness=2)\n",
    "        if int(y1) >= text_height + 5:\n",
    "            cv2.putText(img_rgb, class_mapping[class_id], (int(x1), int(y1) - 5), font, font_scale, car_box_color, font_thickness)\n",
    "        else:\n",
    "            cv2.putText(img_rgb, class_mapping[class_id], (int(x1), int(y2) + text_height + 5), font, font_scale, car_box_color, font_thickness)\n",
    "    elif class_id == 1:\n",
    "        cv2.rectangle(img_rgb, (int(x1), int(y1)), (int(x2), int(y2)), motor_box_color, thickness=2)\n",
    "        if int(y1) >= text_height + 5:\n",
    "            cv2.putText(img_rgb, class_mapping[class_id], (int(x1), int(y1) - 5), font, font_scale, motor_box_color, font_thickness)\n",
    "        else:\n",
    "            cv2.putText(img_rgb, class_mapping[class_id], (int(x1), int(y2) + text_height + 5), font, font_scale, motor_box_color, font_thickness)\n",
    "    elif class_id == 2:\n",
    "        cv2.rectangle(img_rgb, (int(x1), int(y1)), (int(x2), int(y2)), plate_box_color, thickness=2)\n",
    "        if int(y1) >= text_height + 5:\n",
    "            cv2.putText(img_rgb, class_mapping[class_id], (int(x1), int(y1) - 5), font, font_scale, plate_box_color, font_thickness)\n",
    "        else:\n",
    "            cv2.putText(img_rgb, class_mapping[class_id], (int(x1), int(y2) + text_height + 5), font, font_scale, plate_box_color, font_thickness)"
   ]
  },
  {
   "cell_type": "code",
   "execution_count": null,
   "metadata": {},
   "outputs": [],
   "source": [
    "plt.imshow(img_rgb)\n",
    "plt.axis('off') \n",
    "plt.show()"
   ]
  },
  {
   "cell_type": "markdown",
   "metadata": {},
   "source": [
    "## VIDEO DETECTION"
   ]
  },
  {
   "cell_type": "markdown",
   "metadata": {},
   "source": [
    "### SAVE VIDEO"
   ]
  },
  {
   "cell_type": "code",
   "execution_count": null,
   "metadata": {},
   "outputs": [],
   "source": [
    "# Define parameters for the output video\n",
    "output_video_path = './predict/predict_video_2.mp4'\n",
    "fourcc = cv2.VideoWriter_fourcc(*'mp4v')  # Codec for MP4 video\n",
    "output_fps = 30.0  # Frames per second\n",
    "\n",
    "# Check if video capture is opened successfully\n",
    "if not cap.isOpened():\n",
    "    print(\"Error reading video file\")\n",
    "    exit()  # Exit the program if there's an error\n",
    "\n",
    "# Get video frame width and height (assuming cap is already defined)\n",
    "frame_width = int(cap.get(cv2.CAP_PROP_FRAME_WIDTH))\n",
    "frame_height = int(cap.get(cv2.CAP_PROP_FRAME_HEIGHT))\n",
    "\n",
    "# Create the video writer object\n",
    "out = cv2.VideoWriter(output_video_path, fourcc, output_fps, (frame_width, frame_height))"
   ]
  },
  {
   "cell_type": "markdown",
   "metadata": {},
   "source": [
    "### PREDICT VIDEO"
   ]
  },
  {
   "cell_type": "code",
   "execution_count": null,
   "metadata": {},
   "outputs": [],
   "source": [
    "ret = True\n",
    "\n",
    "while ret:\n",
    "    ret, frame = cap.read()\n",
    "    if not ret:\n",
    "        break  # Keluar dari loop jika tidak ada frame yang terbaca\n",
    "    \n",
    "    detections = model(frame)[0]\n",
    "    for detection in detections.boxes.data.tolist():\n",
    "        x1, y1, x2, y2, score, class_id = detection\n",
    "        # Mengukur tinggi teks\n",
    "        text_size = cv2.getTextSize(class_mapping[class_id], font, font_scale, font_thickness)[0]\n",
    "        text_height = text_size[1]\n",
    "        if class_id == 0:\n",
    "            cv2.rectangle(frame, (int(x1), int(y1)), (int(x2), int(y2)), car_box_color, thickness=2)\n",
    "            if int(y1) >= text_height + 5:\n",
    "                cv2.putText(frame, class_mapping[class_id], (int(x1), int(y1) - 5), font, font_scale, car_box_color, font_thickness)\n",
    "            else:\n",
    "                cv2.putText(frame, class_mapping[class_id], (int(x1), int(y2) + text_height + 5), font, font_scale, car_box_color, font_thickness)\n",
    "        elif class_id == 1:\n",
    "            cv2.rectangle(frame, (int(x1), int(y1)), (int(x2), int(y2)), motor_box_color, thickness=2)\n",
    "            if int(y1) >= text_height + 5:\n",
    "                cv2.putText(frame, class_mapping[class_id], (int(x1), int(y1) - 5), font, font_scale, motor_box_color, font_thickness)\n",
    "            else:\n",
    "                cv2.putText(frame, class_mapping[class_id], (int(x1), int(y2) + text_height + 5), font, font_scale, motor_box_color, font_thickness)\n",
    "        elif class_id == 2:\n",
    "            cv2.rectangle(frame, (int(x1), int(y1)), (int(x2), int(y2)), plate_box_color, thickness=2)\n",
    "            if int(y1) >= text_height + 5:\n",
    "                cv2.putText(frame, class_mapping[class_id], (int(x1), int(y1) - 5), font, font_scale, plate_box_color, font_thickness)\n",
    "            else:\n",
    "                cv2.putText(frame, class_mapping[class_id], (int(x1), int(y2) + text_height + 5), font, font_scale, plate_box_color, font_thickness)\n",
    "\n",
    "    out.write(frame) \n",
    "\n",
    "    ## MENAMPILKAN LIVE\n",
    "    # Mendapatkan dimensi asli frame\n",
    "    # original_height, original_width = frame.shape[:2]\n",
    "\n",
    "    # # Hitung faktor skala untuk menyesuaikan frame agar muat dalam satu layar laptop\n",
    "    # screen_height = 720  # Misalnya, resolusi layar laptop adalah 720p\n",
    "    # screen_width = 1280  # Misalnya, resolusi layar laptop adalah 1280p\n",
    "    # scale_factor = min(screen_height / original_height, screen_width / original_width)\n",
    "\n",
    "    # # Resize frame sesuai dengan faktor skala\n",
    "    # resized_frame = cv2.resize(frame, None, fx=scale_factor, fy=scale_factor)\n",
    "\n",
    "    # # Menampilkan frame yang telah diresize\n",
    "    # cv2.imshow('Resized Frame', resized_frame)\n",
    "\n",
    "    # if cv2.waitKey(1) & 0xFF == ord('q'):  # Tunggu 1ms, jika tombol 'q' ditekan, hentikan loop\n",
    "    #     break\n",
    "\n",
    "cv2.destroyAllWindows()\n",
    "\n",
    "cap.release() \n",
    "out.release() \n",
    "    \n",
    "# Closes all the frames \n",
    "cv2.destroyAllWindows() \n",
    "   \n",
    "print(\"The video was successfully saved\") "
   ]
  },
  {
   "cell_type": "code",
   "execution_count": 25,
   "metadata": {},
   "outputs": [],
   "source": [
    "!pip freeze > requirements.txt"
   ]
  }
 ],
 "metadata": {
  "kernelspec": {
   "display_name": "yolov8",
   "language": "python",
   "name": "python3"
  },
  "language_info": {
   "codemirror_mode": {
    "name": "ipython",
    "version": 3
   },
   "file_extension": ".py",
   "mimetype": "text/x-python",
   "name": "python",
   "nbconvert_exporter": "python",
   "pygments_lexer": "ipython3",
   "version": "3.9.18"
  }
 },
 "nbformat": 4,
 "nbformat_minor": 2
}
