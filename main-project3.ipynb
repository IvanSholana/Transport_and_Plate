{
 "cells": [
  {
   "cell_type": "code",
   "execution_count": 1,
   "metadata": {},
   "outputs": [],
   "source": [
    "from ultralytics import YOLO\n",
    "import cv2\n",
    "import numpy as np\n",
    "import matplotlib.pyplot as plt\n",
    "import os"
   ]
  },
  {
   "cell_type": "markdown",
   "metadata": {},
   "source": [
    "## LOAD MODEL"
   ]
  },
  {
   "cell_type": "code",
   "execution_count": 2,
   "metadata": {},
   "outputs": [],
   "source": [
    "model = YOLO('./model/client_model/best.pt')\n",
    "model2 = YOLO('./model/client_model/best.pt')"
   ]
  },
  {
   "cell_type": "markdown",
   "metadata": {},
   "source": [
    "## READ FROM VIDEO"
   ]
  },
  {
   "cell_type": "code",
   "execution_count": 3,
   "metadata": {},
   "outputs": [],
   "source": [
    "video_path = './dataset/Video/sample.mp4'\n",
    "cap = cv2.VideoCapture(video_path)"
   ]
  },
  {
   "cell_type": "markdown",
   "metadata": {},
   "source": [
    "## READ FROM WEBCAM"
   ]
  },
  {
   "cell_type": "code",
   "execution_count": 4,
   "metadata": {},
   "outputs": [],
   "source": [
    "# cap = cv2.VideoCapture(0) "
   ]
  },
  {
   "cell_type": "markdown",
   "metadata": {},
   "source": [
    "## LICENSE DETECTION"
   ]
  },
  {
   "cell_type": "code",
   "execution_count": 5,
   "metadata": {},
   "outputs": [],
   "source": [
    "captured = []\n",
    "len_file = os.listdir('./license_predict/')\n",
    "plate = len(len_file)"
   ]
  },
  {
   "cell_type": "code",
   "execution_count": 6,
   "metadata": {},
   "outputs": [],
   "source": [
    "def create_detection_frame(frame):\n",
    "    new_height = int(frame.shape[0] * 0.4)  # 40% dari tinggi frame asli\n",
    "    new_width = frame.shape[1]  # Lebar sesuai dengan frame asli\n",
    "\n",
    "    # Hitung koordinat untuk rectangle\n",
    "    top_left_x = 0\n",
    "    top_left_y = frame.shape[0] - new_height - int(frame.shape[0] * 0.1)  # Angkat rectangle ke tengah 10%\n",
    "    bottom_right_x = frame.shape[1]\n",
    "    bottom_right_y = top_left_y + new_height\n",
    "    \n",
    "    cv2.rectangle(frame, (top_left_x, top_left_y), (bottom_right_x, bottom_right_y), (0, 255, 255), thickness=2)\n",
    "    \n",
    "    return frame[top_left_y:bottom_right_y, top_left_x:bottom_right_x], top_left_x, top_left_y, bottom_right_x, bottom_right_y"
   ]
  },
  {
   "cell_type": "code",
   "execution_count": 7,
   "metadata": {},
   "outputs": [],
   "source": [
    "def detect_objects(frame, model):\n",
    "    # Lakukan deteksi objek menggunakan model\n",
    "    result = model.track(frame, persist=True)\n",
    "    \n",
    "    if result is not None and result[0].boxes.id is not None:\n",
    "        track_ids = result[0].boxes.id.int().cpu().tolist()\n",
    "        boxes = result[0].boxes.xywh.cpu()\n",
    "        frame_ = result[0].plot()   \n",
    "        \n",
    "        return frame_, track_ids, result, boxes\n",
    "    else:\n",
    "        return None, None, None, None"
   ]
  },
  {
   "cell_type": "code",
   "execution_count": 8,
   "metadata": {},
   "outputs": [],
   "source": [
    "def detect_license_plate(detected_area, model,track_ids, result):\n",
    "    global captured\n",
    "    global plate\n",
    "    # Loop untuk setiap hasil deteksi\n",
    "    for i, track_id in enumerate(track_ids):\n",
    "        x1, y1, x2, y2, id, score, class_id = result[0].boxes.data[i].numpy()\n",
    "        if track_id not in captured and int(class_id) != 2:\n",
    "            capture_frame = detected_area[int(y1):int(y2), int(x1):int(x2)]\n",
    "            license_detection = model(capture_frame)[0]\n",
    "            for detection in license_detection.boxes.data.tolist():\n",
    "                x1_license, y1_license, x2_license, y2_license, score_license, class_id_license = detection\n",
    "                if class_id_license == 2:\n",
    "                    license_frame = capture_frame[int(y1_license):int(y2_license), int(x1_license):int(x2_license)]\n",
    "                    captured.append(track_id)\n",
    "                    # Ganti fungsionalitas untuk menyimpan gambar, misalnya:\n",
    "                    cv2.imwrite(f'./license_predict/{plate}.jpg', license_frame)\n",
    "                    plate += 1"
   ]
  },
  {
   "cell_type": "code",
   "execution_count": 9,
   "metadata": {},
   "outputs": [],
   "source": [
    "def resized_frame(frame):\n",
    "    ## MENAMPILKAN LIVE\n",
    "    # Mendapatkan dimensi asli frame\n",
    "    original_height, original_width = frame.shape[:2]\n",
    "\n",
    "    # Hitung faktor skala untuk menyesuaikan frame agar muat dalam satu layar laptop\n",
    "    screen_height = 720  # Misalnya, resolusi layar laptop adalah 720p\n",
    "    screen_width = 1280  # Misalnya, resolusi layar laptop adalah 1280p\n",
    "    scale_factor = min(screen_height / original_height, screen_width / original_width)\n",
    "\n",
    "    # Resize frame sesuai dengan faktor skala\n",
    "    resized_frame = cv2.resize(frame, None, fx=scale_factor, fy=scale_factor)\n",
    "    \n",
    "    return resized_frame"
   ]
  },
  {
   "cell_type": "code",
   "execution_count": 10,
   "metadata": {},
   "outputs": [
    {
     "name": "stdout",
     "output_type": "stream",
     "text": [
      "\u001b[31m\u001b[1mrequirements:\u001b[0m Ultralytics requirement ['lapx>=0.5.2'] not found, attempting AutoUpdate...\n",
      "Collecting lapx>=0.5.2\n",
      "  Downloading lapx-0.5.8-cp39-cp39-win_amd64.whl.metadata (6.5 kB)\n",
      "Collecting Cython>=0.29.32 (from lapx>=0.5.2)\n",
      "  Downloading Cython-3.0.10-cp39-cp39-win_amd64.whl.metadata (3.2 kB)\n",
      "Requirement already satisfied: numpy>=1.21.6 in c:\\users\\asus\\anaconda3\\envs\\number_plate_detection\\lib\\site-packages (from lapx>=0.5.2) (1.26.4)\n",
      "Downloading lapx-0.5.8-cp39-cp39-win_amd64.whl (1.5 MB)\n",
      "   ---------------------------------------- 1.5/1.5 MB 885.7 kB/s eta 0:00:00\n",
      "Downloading Cython-3.0.10-cp39-cp39-win_amd64.whl (2.8 MB)\n",
      "   ---------------------------------------- 2.8/2.8 MB 1.1 MB/s eta 0:00:0005\n",
      "Installing collected packages: Cython, lapx\n",
      "Successfully installed Cython-3.0.10 lapx-0.5.8\n",
      "\n",
      "\u001b[31m\u001b[1mrequirements:\u001b[0m AutoUpdate success  8.8s, installed 1 package: ['lapx>=0.5.2']\n",
      "\u001b[31m\u001b[1mrequirements:\u001b[0m  \u001b[1mRestart runtime or rerun command for updates to take effect\u001b[0m\n",
      "\n",
      "\n",
      "0: 192x800 2 Mobils, 89.3ms\n",
      "Speed: 4.5ms preprocess, 89.3ms inference, 792.8ms postprocess per image at shape (1, 3, 192, 800)\n",
      "Model tidak mengembalikan hasil yang diharapkan. Lanjutkan ke frame berikutnya.\n",
      "\n",
      "0: 192x800 2 Mobils, 75.3ms\n",
      "Speed: 1.5ms preprocess, 75.3ms inference, 3.0ms postprocess per image at shape (1, 3, 192, 800)\n",
      "Model tidak mengembalikan hasil yang diharapkan. Lanjutkan ke frame berikutnya.\n",
      "\n",
      "0: 192x800 2 Mobils, 1 Plat Nomor, 69.9ms\n",
      "Speed: 2.5ms preprocess, 69.9ms inference, 2.0ms postprocess per image at shape (1, 3, 192, 800)\n",
      "Model tidak mengembalikan hasil yang diharapkan. Lanjutkan ke frame berikutnya.\n",
      "\n",
      "0: 192x800 3 Mobils, 1 Plat Nomor, 66.3ms\n",
      "Speed: 1.5ms preprocess, 66.3ms inference, 3.0ms postprocess per image at shape (1, 3, 192, 800)\n",
      "Model tidak mengembalikan hasil yang diharapkan. Lanjutkan ke frame berikutnya.\n",
      "\n",
      "0: 192x800 1 Mobil, 69.9ms\n",
      "Speed: 1.0ms preprocess, 69.9ms inference, 2.0ms postprocess per image at shape (1, 3, 192, 800)\n",
      "\n",
      "0: 640x800 1 Mobil, 1 Plat Nomor, 187.9ms\n",
      "Speed: 5.5ms preprocess, 187.9ms inference, 2.1ms postprocess per image at shape (1, 3, 640, 800)\n",
      "\n",
      "0: 192x800 1 Mobil, 67.3ms\n",
      "Speed: 2.0ms preprocess, 67.3ms inference, 1.0ms postprocess per image at shape (1, 3, 192, 800)\n",
      "\n",
      "0: 192x800 1 Mobil, 73.7ms\n",
      "Speed: 2.0ms preprocess, 73.7ms inference, 1.5ms postprocess per image at shape (1, 3, 192, 800)\n",
      "\n",
      "0: 192x800 1 Mobil, 71.1ms\n",
      "Speed: 1.0ms preprocess, 71.1ms inference, 1.0ms postprocess per image at shape (1, 3, 192, 800)\n",
      "\n",
      "0: 192x800 1 Mobil, 80.5ms\n",
      "Speed: 1.0ms preprocess, 80.5ms inference, 2.0ms postprocess per image at shape (1, 3, 192, 800)\n",
      "\n",
      "0: 192x800 1 Mobil, 76.2ms\n",
      "Speed: 1.0ms preprocess, 76.2ms inference, 1.5ms postprocess per image at shape (1, 3, 192, 800)\n",
      "\n",
      "0: 192x800 1 Mobil, 75.2ms\n",
      "Speed: 2.5ms preprocess, 75.2ms inference, 1.0ms postprocess per image at shape (1, 3, 192, 800)\n",
      "\n",
      "0: 192x800 1 Mobil, 72.7ms\n",
      "Speed: 1.0ms preprocess, 72.7ms inference, 1.0ms postprocess per image at shape (1, 3, 192, 800)\n",
      "\n",
      "0: 192x800 1 Mobil, 74.4ms\n",
      "Speed: 2.0ms preprocess, 74.4ms inference, 1.0ms postprocess per image at shape (1, 3, 192, 800)\n",
      "\n",
      "0: 192x800 1 Mobil, 69.3ms\n",
      "Speed: 1.0ms preprocess, 69.3ms inference, 1.0ms postprocess per image at shape (1, 3, 192, 800)\n",
      "\n",
      "0: 192x800 1 Mobil, 69.6ms\n",
      "Speed: 1.0ms preprocess, 69.6ms inference, 1.0ms postprocess per image at shape (1, 3, 192, 800)\n",
      "\n",
      "0: 192x800 1 Mobil, 68.1ms\n",
      "Speed: 1.0ms preprocess, 68.1ms inference, 1.0ms postprocess per image at shape (1, 3, 192, 800)\n",
      "\n",
      "0: 192x800 1 Mobil, 65.2ms\n",
      "Speed: 1.0ms preprocess, 65.2ms inference, 1.0ms postprocess per image at shape (1, 3, 192, 800)\n",
      "\n",
      "0: 192x800 1 Mobil, 67.3ms\n",
      "Speed: 0.6ms preprocess, 67.3ms inference, 1.0ms postprocess per image at shape (1, 3, 192, 800)\n",
      "\n",
      "0: 192x800 1 Mobil, 68.0ms\n",
      "Speed: 1.0ms preprocess, 68.0ms inference, 1.0ms postprocess per image at shape (1, 3, 192, 800)\n",
      "\n",
      "0: 192x800 1 Mobil, 66.9ms\n",
      "Speed: 1.0ms preprocess, 66.9ms inference, 1.0ms postprocess per image at shape (1, 3, 192, 800)\n",
      "\n",
      "0: 192x800 1 Mobil, 66.2ms\n",
      "Speed: 1.5ms preprocess, 66.2ms inference, 0.0ms postprocess per image at shape (1, 3, 192, 800)\n",
      "\n",
      "0: 192x800 1 Mobil, 64.9ms\n",
      "Speed: 1.0ms preprocess, 64.9ms inference, 0.0ms postprocess per image at shape (1, 3, 192, 800)\n",
      "\n",
      "0: 192x800 1 Mobil, 67.0ms\n",
      "Speed: 2.0ms preprocess, 67.0ms inference, 1.0ms postprocess per image at shape (1, 3, 192, 800)\n"
     ]
    }
   ],
   "source": [
    "ret = True\n",
    "\n",
    "while ret:\n",
    "    ret, frame = cap.read()\n",
    "    \n",
    "    if ret:\n",
    "        detected_area, top_left_x, top_left_y, bottom_right_x, bottom_right_y = create_detection_frame(frame)\n",
    "        \n",
    "        frame_, track_ids, result, boxes = detect_objects(detected_area, model)\n",
    "        \n",
    "        if frame_ is not None:\n",
    "            detect_license_plate(detected_area, model2, track_ids, result)\n",
    "\n",
    "            # Pastikan untuk mengganti area yang dicrop dengan frame_\n",
    "            frame[top_left_y:bottom_right_y, top_left_x:bottom_right_x] = frame_\n",
    "            \n",
    "            cv2.imshow('frame', resized_frame(frame))\n",
    "            \n",
    "            if cv2.waitKey(25) & 0xFF == ord('q'):\n",
    "                break\n",
    "        else:\n",
    "            print(\"Model tidak mengembalikan hasil yang diharapkan. Lanjutkan ke frame berikutnya.\")\n",
    "            continue  # Lanjutkan ke frame berikutnya jika hasil tidak tersedia\n",
    "        \n",
    "cv2.destroyAllWindows()"
   ]
  },
  {
   "cell_type": "code",
   "execution_count": null,
   "metadata": {},
   "outputs": [],
   "source": []
  }
 ],
 "metadata": {
  "kernelspec": {
   "display_name": "yolov8",
   "language": "python",
   "name": "python3"
  },
  "language_info": {
   "codemirror_mode": {
    "name": "ipython",
    "version": 3
   },
   "file_extension": ".py",
   "mimetype": "text/x-python",
   "name": "python",
   "nbconvert_exporter": "python",
   "pygments_lexer": "ipython3",
   "version": "3.9.19"
  }
 },
 "nbformat": 4,
 "nbformat_minor": 2
}
