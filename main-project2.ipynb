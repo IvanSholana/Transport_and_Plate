{
 "cells": [
  {
   "cell_type": "code",
   "execution_count": null,
   "metadata": {},
   "outputs": [],
   "source": [
    "from ultralytics import YOLO\n",
    "import cv2\n",
    "import numpy as np\n",
    "import matplotlib.pyplot as plt"
   ]
  },
  {
   "cell_type": "code",
   "execution_count": null,
   "metadata": {},
   "outputs": [],
   "source": [
    "model = YOLO('./models/best.pt')"
   ]
  },
  {
   "cell_type": "code",
   "execution_count": null,
   "metadata": {},
   "outputs": [],
   "source": [
    "video_path = './datasets/Video_2_30_detik.mp4'\n",
    "cap = cv2.VideoCapture(video_path)"
   ]
  },
  {
   "cell_type": "code",
   "execution_count": null,
   "metadata": {},
   "outputs": [],
   "source": [
    "class_mapping = {0 : \"Mobil\", 1 : \"Motor\", 2 : \"Plat Nomor\"}"
   ]
  },
  {
   "cell_type": "code",
   "execution_count": null,
   "metadata": {},
   "outputs": [],
   "source": [
    "ret = True\n",
    "captured = []\n",
    "plate = 0\n",
    "\n",
    "while ret:\n",
    "    ret, frame = cap.read()\n",
    "    \n",
    "    if ret:\n",
    "        \n",
    "        new_height = int(frame.shape[0] * 0.3)  # 25% dari tinggi frame asli\n",
    "        new_width = frame.shape[1]  # Lebar sesuai dengan frame asli\n",
    "\n",
    "        # Hitung koordinat untuk rectangle\n",
    "        top_left_x = 0\n",
    "        top_left_y = frame.shape[0] - new_height - int(frame.shape[0] * 0.1)  # Angkat rectangle ke tengah 20%\n",
    "        bottom_right_x = frame.shape[1]\n",
    "        bottom_right_y = top_left_y + new_height\n",
    "        \n",
    "        cv2.rectangle(frame, (top_left_x, top_left_y), (bottom_right_x, bottom_right_y), (0, 255, 255), thickness=2)\n",
    "        detected_area = frame[top_left_y:bottom_right_y, top_left_x:bottom_right_x]\n",
    "        result = model.track(detected_area, persist=True)\n",
    "        \n",
    "        if result is not None and result[0].boxes.id is not None:\n",
    "            track_ids = result[0].boxes.id.int().cpu().tolist()\n",
    "            boxes = result[0].boxes.xywh.cpu()\n",
    "            frame_ = result[0].plot()   \n",
    "            \n",
    "            for i, track_id in enumerate(track_ids):\n",
    "                x1, y1, x2, y2, id, score, class_id = result[0].boxes.data[i].numpy()\n",
    "                if track_id not in captured and int(class_id) == 2:\n",
    "                    captured.append(track_id)\n",
    "                    # Melakukan pemotongan (cropping) frame\n",
    "                    capture_frame = detected_area[int(y1):int(y2), int(x1):int(x2)]\n",
    "                    cv2.imwrite(f'./plat_detected/{int(track_id) }.jpg', capture_frame)\n",
    "                    \n",
    "                    # Menggantikan area yang dicrop dengan frame_\n",
    "            frame[top_left_y:bottom_right_y, top_left_x:bottom_right_x] = frame_\n",
    "                    \n",
    "            ## MENAMPILKAN LIVE\n",
    "            # Mendapatkan dimensi asli frame\n",
    "            original_height, original_width = frame.shape[:2]\n",
    "\n",
    "            # Hitung faktor skala untuk menyesuaikan frame agar muat dalam satu layar laptop\n",
    "            screen_height = 720  # Misalnya, resolusi layar laptop adalah 720p\n",
    "            screen_width = 1280  # Misalnya, resolusi layar laptop adalah 1280p\n",
    "            scale_factor = min(screen_height / original_height, screen_width / original_width)\n",
    "\n",
    "            # Resize frame sesuai dengan faktor skala\n",
    "            resized_frame = cv2.resize(frame, None, fx=scale_factor, fy=scale_factor)\n",
    "            \n",
    "            cv2.imshow('frame', resized_frame)\n",
    "            \n",
    "            if cv2.waitKey(25) & 0xFF == ord('q'):\n",
    "                break\n",
    "        else:\n",
    "            print(\"Model tidak mengembalikan hasil yang diharapkan. Lanjutkan ke frame berikutnya.\")\n",
    "            continue  # Lanjutkan ke frame berikutnya jika hasil tidak tersedia\n",
    "        \n",
    "cv2.destroyAllWindows()"
   ]
  }
 ],
 "metadata": {
  "kernelspec": {
   "display_name": "yolov8",
   "language": "python",
   "name": "python3"
  },
  "language_info": {
   "name": "python",
   "version": "3.9.18"
  }
 },
 "nbformat": 4,
 "nbformat_minor": 2
}
